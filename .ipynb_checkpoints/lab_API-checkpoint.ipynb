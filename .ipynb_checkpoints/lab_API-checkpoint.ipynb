{
 "cells": [
  {
   "cell_type": "code",
   "execution_count": 1,
   "id": "b6217406",
   "metadata": {},
   "outputs": [],
   "source": [
    "CLIENT_ID = \"a949506fabbf4df9bd8f90b568eb9fe2\"\n",
    "CLIENT_SECRET = \"a7f7ece9f0e5493a831b9062e19747c4\""
   ]
  },
  {
   "cell_type": "code",
   "execution_count": 2,
   "id": "be77a907",
   "metadata": {},
   "outputs": [
    {
     "name": "stdout",
     "output_type": "stream",
     "text": [
      "Collecting spotipy\n",
      "  Using cached spotipy-2.24.0-py3-none-any.whl (30 kB)\n",
      "Requirement already satisfied: requests>=2.25.0 in c:\\programdata\\anaconda3\\lib\\site-packages (from spotipy) (2.25.1)\n",
      "Collecting redis>=3.5.3\n",
      "  Using cached redis-5.1.0-py3-none-any.whl (261 kB)\n",
      "Requirement already satisfied: urllib3>=1.26.0 in c:\\programdata\\anaconda3\\lib\\site-packages (from spotipy) (1.26.4)\n",
      "Collecting async-timeout>=4.0.3\n",
      "  Using cached async_timeout-4.0.3-py3-none-any.whl (5.7 kB)\n",
      "Requirement already satisfied: chardet<5,>=3.0.2 in c:\\programdata\\anaconda3\\lib\\site-packages (from requests>=2.25.0->spotipy) (4.0.0)\n",
      "Requirement already satisfied: certifi>=2017.4.17 in c:\\programdata\\anaconda3\\lib\\site-packages (from requests>=2.25.0->spotipy) (2024.8.30)\n",
      "Requirement already satisfied: idna<3,>=2.5 in c:\\programdata\\anaconda3\\lib\\site-packages (from requests>=2.25.0->spotipy) (2.10)\n",
      "Installing collected packages: async-timeout, redis, spotipy\n",
      "Successfully installed async-timeout-4.0.3 redis-5.1.0 spotipy-2.24.0\n"
     ]
    }
   ],
   "source": [
    "# If you havent done so, install the spotipy wrapper\n",
    "!pip install spotipy"
   ]
  },
  {
   "cell_type": "code",
   "execution_count": 3,
   "id": "57e4dc43",
   "metadata": {},
   "outputs": [],
   "source": [
    "import spotipy\n",
    "from spotipy.oauth2 import SpotifyClientCredentials\n",
    "\n",
    "#Initialize SpotiPy with user credentials\n",
    "sp = spotipy.Spotify(auth_manager=SpotifyClientCredentials(client_id=CLIENT_ID,\n",
    "                                                           client_secret=CLIENT_SECRET))\n"
   ]
  },
  {
   "cell_type": "code",
   "execution_count": 5,
   "id": "7b1769d1",
   "metadata": {},
   "outputs": [],
   "source": [
    "# List of my favorite artists\n",
    "artists = [\"Los Fabulosos Cadillacs\", \"Manu Chao\", \"Muchachito Bombo Infierno\"]"
   ]
  },
  {
   "cell_type": "code",
   "execution_count": 6,
   "id": "0deeea9d",
   "metadata": {},
   "outputs": [],
   "source": [
    "def get_top_tracks(artist_name):\n",
    "# Search for the artist using the artist's name\n",
    "    result = sp.search(q=artist_name, type='artist', limit=1)\n",
    "    \n",
    " # Get the artist's ID\n",
    "    artist_id = result['artists']['items'][0]['id']\n",
    "    \n",
    "# Fetch the artist's top tracks\n",
    "    top_tracks = sp.artist_top_tracks(artist_id)\n",
    "    \n",
    "# Return the names of the top 5 tracks\n",
    "    return [track['name'] for track in top_tracks['tracks'][:5]]\n"
   ]
  },
  {
   "cell_type": "code",
   "execution_count": 7,
   "id": "55b93b49",
   "metadata": {},
   "outputs": [
    {
     "name": "stdout",
     "output_type": "stream",
     "text": [
      "['Vasos Vacíos - Remasterizado 2008', 'Matador - Remasterizado 2008', 'Siguiendo la Luna - Remasterizado 2008', 'Mal Bicho - Remasterizado 2008', 'Manuel Santillán, el León (Versión Reggae) - Remasterizado 2008']\n"
     ]
    }
   ],
   "source": [
    "# Get the top 5 tracks of \"Los Fabulosos Cadillacs\"\n",
    "top_tracks = get_top_tracks(\"Los Fabulosos Cadillacs\")\n",
    "print(top_tracks)\n"
   ]
  },
  {
   "cell_type": "code",
   "execution_count": 8,
   "id": "ff962196",
   "metadata": {},
   "outputs": [
    {
     "name": "stdout",
     "output_type": "stream",
     "text": [
      "[['Vasos Vacíos - Remasterizado 2008', 'Matador - Remasterizado 2008', 'Siguiendo la Luna - Remasterizado 2008', 'Mal Bicho - Remasterizado 2008', 'Manuel Santillán, el León (Versión Reggae) - Remasterizado 2008'], ['Me Gustas Tu', 'Bongo Bong', 'Clandestino', \"Je ne t'aime plus\", 'Tu Te Vas'], ['La quiero a morir', 'Siempre que quiera', 'Tu nombre', 'Caraguapa', 'Si tú si yo, si no']]\n"
     ]
    }
   ],
   "source": [
    "# Get top tracks for each artist\n",
    "top_tracks_list = [get_top_tracks(artist) for artist in artists]\n",
    "\n",
    "\n",
    "print(top_tracks_list)\n"
   ]
  },
  {
   "cell_type": "code",
   "execution_count": 9,
   "id": "5f12116f",
   "metadata": {},
   "outputs": [],
   "source": [
    "def find_related_artists(artist_name):\n",
    "# Search for the artist to get their ID\n",
    "    result = sp.search(q=artist_name, type='artist', limit=1)\n",
    "    artist_id = result['artists']['items'][0]['id']\n",
    "    \n",
    "# Fetch related artists using the artist's ID\n",
    "    related_artists = sp.artist_related_artists(artist_id)\n",
    "    \n",
    "# Return the names of the top 5 related artists\n",
    "    return [artist['name'] for artist in related_artists['artists'][:5]]\n"
   ]
  },
  {
   "cell_type": "code",
   "execution_count": 10,
   "id": "06a081ae",
   "metadata": {},
   "outputs": [
    {
     "name": "stdout",
     "output_type": "stream",
     "text": [
      "['Mano Negra', 'Buena Vista Social Club', 'Orishas', 'Onda Vaga', 'Todos Tus Muertos']\n"
     ]
    }
   ],
   "source": [
    "# Get related artists for \"Manu Chao\"\n",
    "related_artists = find_related_artists(\"Manu Chao\")\n",
    "print(related_artists)\n"
   ]
  },
  {
   "cell_type": "code",
   "execution_count": 11,
   "id": "e87df046",
   "metadata": {},
   "outputs": [
    {
     "name": "stdout",
     "output_type": "stream",
     "text": [
      "[['Los Auténticos Decadentes', 'Los Pericos', 'Vicentico', 'Maldita Vecindad Y Los Hijos Del 5to. Patio', 'Aterciopelados'], ['Mano Negra', 'Buena Vista Social Club', 'Orishas', 'Onda Vaga', 'Todos Tus Muertos'], ['Canteca de macao', 'La Cabra Mecanica', 'Tomasito', 'El Puchero Del Hortelano', 'Amparanoia']]\n"
     ]
    }
   ],
   "source": [
    "# Get related artists for each favorite artist\n",
    "related_artists_list = [find_related_artists(artist) for artist in artists]\n",
    "\n",
    "# Print the related artists for all favorite artists\n",
    "print(related_artists_list)\n"
   ]
  },
  {
   "cell_type": "code",
   "execution_count": 12,
   "id": "869b8d2c",
   "metadata": {},
   "outputs": [
    {
     "name": "stdout",
     "output_type": "stream",
     "text": [
      "Generated Playlist:\n",
      "Vasos Vacíos - Remasterizado 2008\n",
      "Matador - Remasterizado 2008\n",
      "Siguiendo la Luna - Remasterizado 2008\n",
      "Mal Bicho - Remasterizado 2008\n",
      "Manuel Santillán, el León (Versión Reggae) - Remasterizado 2008\n",
      "Me Gustas Tu\n",
      "Bongo Bong\n",
      "Clandestino\n",
      "Je ne t'aime plus\n",
      "Tu Te Vas\n",
      "La quiero a morir\n",
      "Siempre que quiera\n",
      "Tu nombre\n",
      "Caraguapa\n",
      "Si tú si yo, si no\n",
      "Loco (Tu Forma De Ser)\n",
      "Un Osito de Peluche de Taiwán\n",
      "Amor (Ft. Mon Laferte) - MTV Unplugged\n",
      "La Guitarra\n",
      "No Me Importa el Dinero (feat. Julieta Venegas) - Vivo en el Palacio de los Deportes\n",
      "Pupilas Lejanas\n",
      "Runaway\n",
      "Waitin'\n",
      "Runaway\n",
      "Anónimos (feat. Carla Morrison)\n",
      "Los Aretes De La Luna\n",
      "Yo no soy Guapo\n",
      "Envidia\n",
      "Los Aretes De La Luna\n",
      "Yo No Soy Guapo\n",
      "Kumbala\n",
      "Pachuco\n",
      "Solín\n",
      "Lo Pasado, Pasado\n",
      "Un Gran Circo\n",
      "Bolero Falaz\n",
      "Baracunatana\n",
      "Florecita Rockera\n",
      "Maligno (feat. León Larregui)\n",
      "Rompecabezas\n",
      "Mala Vida\n",
      "Out of Time Man\n",
      "Senor Matanza\n",
      "Pas assez de toi\n",
      "King Kong Five\n",
      "Chan Chan\n",
      "El Cuarto de Tula\n",
      "Dos Gardenias\n",
      "Candela\n",
      "De Camino a la Vereda\n",
      "Represent\n",
      "A Lo Cubano\n",
      "537 C U B A\n",
      "El kilo\n",
      "Mistica\n",
      "Mambeado\n",
      "Parque\n",
      "Quedate Luna\n",
      "Tataralí\n",
      "Como Que No?\n",
      "TU ALMA MIA/ADELITA\n",
      "Gente Que No\n",
      "ANDATE\n",
      "Gente Que No\n",
      "SE QUE NO/REKEBRA\n",
      "Nunca Es Tarde\n",
      "Volaré\n",
      "La Luz\n",
      "Pal sur\n",
      "La rubia perfecta\n",
      "La lista de la compra (feat. María Jiménez)\n",
      "Felicidad\n",
      "No me llames iluso\n",
      "Fábula del hombre lobo y la mujer pantera\n",
      "Todo a cien\n",
      "Kiss Off\n",
      "De momento\n",
      "Camino Del Hoyo\n",
      "La Resaca\n",
      "Voltereta\n",
      "La Quiero a Morir\n",
      "Las Pelusas\n",
      "Tú Eres Eso\n",
      "Ave Fénix\n",
      "De Todas Las Cosas\n",
      "Que te den\n",
      "La fiesta\n",
      "Buen rollito\n",
      "Que Te Den\n",
      "Hacer Dinero \"Más\"\n"
     ]
    }
   ],
   "source": [
    "# Combine top tracks of favorite artists and related artists' top tracks\n",
    "playlist_tracks = []\n",
    "\n",
    "# Get top tracks for favorite artists\n",
    "for artist in artists:\n",
    "    playlist_tracks.extend(get_top_tracks(artist))\n",
    "\n",
    "# Get related artists and their top tracks\n",
    "for artist in artists:\n",
    "    related_artists = find_related_artists(artist)\n",
    "    for related_artist in related_artists:\n",
    "        playlist_tracks.extend(get_top_tracks(related_artist))\n",
    "\n",
    "# Display the playlist\n",
    "print(\"Generated Playlist:\")\n",
    "for track in playlist_tracks:\n",
    "    print(track)\n"
   ]
  },
  {
   "cell_type": "code",
   "execution_count": null,
   "id": "d78e41ab",
   "metadata": {},
   "outputs": [],
   "source": []
  }
 ],
 "metadata": {
  "kernelspec": {
   "display_name": "Python 3",
   "language": "python",
   "name": "python3"
  },
  "language_info": {
   "codemirror_mode": {
    "name": "ipython",
    "version": 3
   },
   "file_extension": ".py",
   "mimetype": "text/x-python",
   "name": "python",
   "nbconvert_exporter": "python",
   "pygments_lexer": "ipython3",
   "version": "3.8.8"
  }
 },
 "nbformat": 4,
 "nbformat_minor": 5
}
